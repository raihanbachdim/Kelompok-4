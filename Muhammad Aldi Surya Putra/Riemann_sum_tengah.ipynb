{
  "nbformat": 4,
  "nbformat_minor": 0,
  "metadata": {
    "colab": {
      "provenance": []
    },
    "kernelspec": {
      "name": "python3",
      "display_name": "Python 3"
    },
    "language_info": {
      "name": "python"
    }
  },
  "cells": [
    {
      "cell_type": "markdown",
      "source": [
        "**Deklarasi fungsi Riemann sum tengah**"
      ],
      "metadata": {
        "id": "RWxQsQ8WCj0J"
      }
    },
    {
      "cell_type": "code",
      "execution_count": 1,
      "metadata": {
        "id": "RbgkoxDTCe3-"
      },
      "outputs": [],
      "source": [
        "def riemann_sum(f, a, n, b):\n",
        "  # Memperkirakan pendekatan integral f dari a ke b menggunakan penjumlahan riemann dengan sub interval n\n",
        "  width = (b - a) / n\n",
        "  sum = 0\n",
        "  for i in range(n):\n",
        "    sum += f(a + (i + 0.5) * width)\n",
        "  return sum * width"
      ]
    },
    {
      "cell_type": "markdown",
      "source": [
        "**Deklarasi function f(x)**"
      ],
      "metadata": {
        "id": "U8IJASJLCic8"
      }
    },
    {
      "cell_type": "code",
      "source": [
        "def f(x):\n",
        "  return x**2"
      ],
      "metadata": {
        "id": "qIoDT0xiDlFN"
      },
      "execution_count": 2,
      "outputs": []
    },
    {
      "cell_type": "markdown",
      "source": [
        "**Tes Program**"
      ],
      "metadata": {
        "id": "CUlNll__Dxt0"
      }
    },
    {
      "cell_type": "code",
      "source": [
        "a = 0\n",
        "b = 2\n",
        "n = 10\n",
        "\n",
        "result = riemann_sum(f, a, b, n)\n",
        "print(\"Hasilnya adalah \", result)"
      ],
      "metadata": {
        "colab": {
          "base_uri": "https://localhost:8080/"
        },
        "id": "fHag219PDz-p",
        "outputId": "27dcf5d6-07bb-4786-d67c-2c9204bea773"
      },
      "execution_count": 6,
      "outputs": [
        {
          "output_type": "stream",
          "name": "stdout",
          "text": [
            "Hasilnya adalah  312.5\n"
          ]
        }
      ]
    }
  ]
}