{
  "nbformat": 4,
  "nbformat_minor": 0,
  "metadata": {
    "colab": {
      "provenance": []
    },
    "kernelspec": {
      "name": "python3",
      "display_name": "Python 3"
    },
    "language_info": {
      "name": "python"
    }
  },
  "cells": [
    {
      "cell_type": "markdown",
      "source": [
        "**Deklarasi Fungsi Newton Raphson**"
      ],
      "metadata": {
        "id": "RWxQsQ8WCj0J"
      }
    },
    {
      "cell_type": "code",
      "execution_count": 9,
      "metadata": {
        "id": "RbgkoxDTCe3-"
      },
      "outputs": [],
      "source": [
        "def newton_raphson(f, df, x0, tol=1e-5, max_iter=100):\n",
        "    \"\"\"\n",
        "    Temukan akar dari fungsi f menggunakan Newton-Raphson.\n",
        "     df adalah turunan dari f. x0 adalah estimasi awal.\n",
        "     Mengembalikan akar fungsi.\n",
        "    \"\"\"\n",
        "    # Iterasi sampai kita mencapai jumlah iterasi maksimum atau solusinya berada dalam toleransi\n",
        "    for i in range(max_iter):\n",
        "        # Hitung estimasi berikutnya menggunakan Newton-Raphson\n",
        "        x1 = x0 - f(x0) / df(x0)\n",
        "        \n",
        "        # Periksa apakah solusinya berada dalam tol\n",
        "        if abs(x1 - x0) < tol:\n",
        "            return x1\n",
        "        \n",
        "        # Perbarui perkiraan saat ini\n",
        "        x0 = x1\n",
        "    \n",
        "    # Jika kami mencapai jumlah iterasi maksimum, return None\n",
        "    return None\n",
        "\n",
        "\n"
      ]
    },
    {
      "cell_type": "markdown",
      "source": [
        "**Tes Program**"
      ],
      "metadata": {
        "id": "U8IJASJLCic8"
      }
    },
    {
      "cell_type": "code",
      "source": [
        "def f(x):\n",
        "    return x**2 - 2\n",
        "\n",
        "def df(x):\n",
        "    return 2*x\n",
        "\n",
        "root = newton_raphson(f, df, 1)\n",
        "print(root) "
      ],
      "metadata": {
        "id": "qIoDT0xiDlFN",
        "colab": {
          "base_uri": "https://localhost:8080/"
        },
        "outputId": "df193573-2f36-42fd-fae5-ac1599dec63a"
      },
      "execution_count": 10,
      "outputs": [
        {
          "output_type": "stream",
          "name": "stdout",
          "text": [
            "1.4142135623746899\n"
          ]
        }
      ]
    }
  ]
}