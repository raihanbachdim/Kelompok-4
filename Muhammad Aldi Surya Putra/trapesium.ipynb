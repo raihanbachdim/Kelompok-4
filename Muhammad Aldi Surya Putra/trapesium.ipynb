{
  "nbformat": 4,
  "nbformat_minor": 0,
  "metadata": {
    "colab": {
      "provenance": []
    },
    "kernelspec": {
      "name": "python3",
      "display_name": "Python 3"
    },
    "language_info": {
      "name": "python"
    }
  },
  "cells": [
    {
      "cell_type": "markdown",
      "source": [
        "**Deklarasi fungsi Integrasi numerik trapesium**"
      ],
      "metadata": {
        "id": "RWxQsQ8WCj0J"
      }
    },
    {
      "cell_type": "code",
      "execution_count": 7,
      "metadata": {
        "id": "RbgkoxDTCe3-"
      },
      "outputs": [],
      "source": [
        "def trapesium(f, a, b, n):\n",
        "    # inisiasi step size\n",
        "    h = (b-a)/n\n",
        "    \n",
        "    # inisiasi jumlah dengan nilai = f(a)/2\n",
        "    s = 0.5*(f(a) + f(b))\n",
        "    \n",
        "    # Perulangan antar titiknya\n",
        "    for i in range(1, n):\n",
        "        s += f(a + i*h)\n",
        "        \n",
        "    # Kalikan jumlah dengan step size\n",
        "    return h*s\n"
      ]
    },
    {
      "cell_type": "markdown",
      "source": [
        "**Deklarasi function f(x)**"
      ],
      "metadata": {
        "id": "U8IJASJLCic8"
      }
    },
    {
      "cell_type": "code",
      "source": [
        "import math\n",
        "\n",
        "# Inisiasi function\n",
        "def f(x):\n",
        "    return x*math.cos(x)\n",
        "\n",
        "\n"
      ],
      "metadata": {
        "id": "qIoDT0xiDlFN"
      },
      "execution_count": 8,
      "outputs": []
    },
    {
      "cell_type": "markdown",
      "source": [
        "**Tes Program**"
      ],
      "metadata": {
        "id": "CUlNll__Dxt0"
      }
    },
    {
      "cell_type": "code",
      "source": [
        "a = 0  # Lower limit \n",
        "b = math.pi  # Upper limit\n",
        "n = 1000 \n",
        "\n",
        "result = trapesium(f, a, b, n)\n",
        "print(\"Hasilnya adalah \", result)"
      ],
      "metadata": {
        "colab": {
          "base_uri": "https://localhost:8080/"
        },
        "id": "fHag219PDz-p",
        "outputId": "51b36f0c-81e3-46f4-e702-0069a227491d"
      },
      "execution_count": 9,
      "outputs": [
        {
          "output_type": "stream",
          "name": "stdout",
          "text": [
            "Hasilnya adalah  -2.000001644934878\n"
          ]
        }
      ]
    }
  ]
}