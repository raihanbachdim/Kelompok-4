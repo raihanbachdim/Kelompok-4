{
  "nbformat": 4,
  "nbformat_minor": 0,
  "metadata": {
    "colab": {
      "provenance": []
    },
    "kernelspec": {
      "name": "python3",
      "display_name": "Python 3"
    },
    "language_info": {
      "name": "python"
    }
  },
  "cells": [
    {
      "cell_type": "markdown",
      "source": [
        "**Deklarasi fungsi bisection**"
      ],
      "metadata": {
        "id": "RWxQsQ8WCj0J"
      }
    },
    {
      "cell_type": "code",
      "execution_count": 3,
      "metadata": {
        "id": "RbgkoxDTCe3-"
      },
      "outputs": [],
      "source": [
        "def bisection(f, a, b, tol=1e-5, max_iter=100):\n",
        "\n",
        "    # Periksa apakah fungsi memiliki tanda yang berlawanan di titik akhir\n",
        "    if f(a) * f(b) >= 0:\n",
        "        return None\n",
        "    \n",
        "    # Iterasi sampai kita mencapai jumlah iterasi maksimum atau solusinya berada dalam toleransi\n",
        "    for i in range(max_iter):\n",
        "        # cari titik tengah pada interval\n",
        "        c = (a + b) / 2\n",
        "        \n",
        "        # Periksa nilai fungsi di titik tengah\n",
        "        f_c = f(c)\n",
        "        if f_c == 0 or (b - a) / 2 < tol:\n",
        "            # Fungsinya sama dengan nol di titik tengah, atau intervalnya cukup kecil\n",
        "            return c\n",
        "        \n",
        "        # Perbarui interval berdasarkan tanda fungsi di titik tengah\n",
        "        if f(a) * f_c < 0:\n",
        "            b = c\n",
        "        else:\n",
        "            a = c\n",
        "    \n",
        "    # Jika kami mencapai jumlah iterasi maksimum, return None\n",
        "    return None\n",
        "\n",
        "\n"
      ]
    },
    {
      "cell_type": "markdown",
      "source": [
        "**Tes Program**"
      ],
      "metadata": {
        "id": "U8IJASJLCic8"
      }
    },
    {
      "cell_type": "code",
      "source": [
        "def f(x):\n",
        "    return x**2 - 2\n",
        "\n",
        "root = bisection(f, 1, 2, tol=1e-6)\n",
        "print(root)\n"
      ],
      "metadata": {
        "id": "qIoDT0xiDlFN",
        "colab": {
          "base_uri": "https://localhost:8080/"
        },
        "outputId": "9da2c8e0-1cd1-4c50-dfad-efc913a8bc61"
      },
      "execution_count": 4,
      "outputs": [
        {
          "output_type": "stream",
          "name": "stdout",
          "text": [
            "1.4142141342163086\n"
          ]
        }
      ]
    }
  ]
}