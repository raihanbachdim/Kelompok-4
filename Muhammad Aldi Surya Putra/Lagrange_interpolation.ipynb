{
  "nbformat": 4,
  "nbformat_minor": 0,
  "metadata": {
    "colab": {
      "provenance": []
    },
    "kernelspec": {
      "name": "python3",
      "display_name": "Python 3"
    },
    "language_info": {
      "name": "python"
    }
  },
  "cells": [
    {
      "cell_type": "markdown",
      "source": [
        "**Deklarasi fungsi lagrange interpolation**"
      ],
      "metadata": {
        "id": "RWxQsQ8WCj0J"
      }
    },
    {
      "cell_type": "code",
      "execution_count": 1,
      "metadata": {
        "id": "RbgkoxDTCe3-"
      },
      "outputs": [],
      "source": [
        "def lagrange_interp(xs, ys, x):\n",
        "    \"\"\"\n",
        "    Diberikan dua list xs dan ys dengan panjang yang sama, dan nilai baru x, kembalikan nilai interpolasi menggunakan polinomial Lagrange.\n",
        "    \"\"\"\n",
        "    # inisialisasi result = 0\n",
        "    result = 0\n",
        "    \n",
        "    # Ulangi setiap titik dalam list\n",
        "    for i, (x_i, y_i) in enumerate(zip(xs, ys)):\n",
        "      # Inisialisasi term = y_i\n",
        "        term = y_i\n",
        "        \n",
        "        # Loop pada titik lain\n",
        "        for j, (x_j, y_j) in enumerate(zip(xs, ys)):\n",
        "            if i == j:\n",
        "                continue\n",
        "            \n",
        "            # Kalikan term dengan (x-x_j)/(x_i-x_j)\n",
        "            term *= (x - x_j) / (x_i - x_j)\n",
        "        \n",
        "        # Result + term\n",
        "        result += term\n",
        "    \n",
        "    # Return result\n",
        "    return result\n",
        "\n"
      ]
    },
    {
      "cell_type": "markdown",
      "source": [
        "**Tes Program**"
      ],
      "metadata": {
        "id": "U8IJASJLCic8"
      }
    },
    {
      "cell_type": "code",
      "source": [
        "xs = [1, 2, 3]\n",
        "ys = [2, 4, 8]\n",
        "x = 2.5\n",
        "interp_val = lagrange_interp(xs, ys, x)\n",
        "print(interp_val)\n"
      ],
      "metadata": {
        "id": "qIoDT0xiDlFN",
        "colab": {
          "base_uri": "https://localhost:8080/",
          "height": 0
        },
        "outputId": "f26bcb29-8e16-4406-e9aa-4ee67d870f94"
      },
      "execution_count": 2,
      "outputs": [
        {
          "output_type": "stream",
          "name": "stdout",
          "text": [
            "5.75\n"
          ]
        }
      ]
    }
  ]
}