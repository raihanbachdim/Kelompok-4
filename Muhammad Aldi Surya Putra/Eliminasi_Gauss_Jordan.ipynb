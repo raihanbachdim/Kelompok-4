{
  "nbformat": 4,
  "nbformat_minor": 0,
  "metadata": {
    "colab": {
      "provenance": []
    },
    "kernelspec": {
      "name": "python3",
      "display_name": "Python 3"
    },
    "language_info": {
      "name": "python"
    }
  },
  "cells": [
    {
      "cell_type": "markdown",
      "source": [
        "**Deklarasi eliminasi gauss jordan**"
      ],
      "metadata": {
        "id": "RWxQsQ8WCj0J"
      }
    },
    {
      "cell_type": "code",
      "execution_count": 7,
      "metadata": {
        "id": "RbgkoxDTCe3-"
      },
      "outputs": [],
      "source": [
        "def gauss_jordan(A, b):\n",
        "    \"\"\"\n",
        "    Selesaikan sistem persamaan linear Ax = b menggunakan eliminasi Gauss-Jordan.\n",
        "     A adalah matriks n x n dan b adalah list panjang-n.\n",
        "     Mengembalikan solusi x sebagai list.\n",
        "    \"\"\"\n",
        "    # Buat salinan matriks yang diperbesar [A|b]\n",
        "    M = [row[:] + [val] for row, val in zip(A, b)]\n",
        "    \n",
        "    #Ulangi baris matriks\n",
        "    for i in range(len(M)):\n",
        "        # Temukan elemen pivot\n",
        "        pivot = max(range(i, len(M)), key=lambda x: abs(M[x][i]))\n",
        "        \n",
        "        # Tukar baris pivot dengan baris saat ini\n",
        "        M[i], M[pivot] = M[pivot], M[i]\n",
        "        \n",
        "        # Normalisasi baris pivot\n",
        "        pivot_val = M[i][i]\n",
        "        M[i] = [val / pivot_val for val in M[i]]\n",
        "        \n",
        "        # Hilangkan pivot dari baris lainnya\n",
        "        for j in range(len(M)):\n",
        "            if i == j:\n",
        "                continue\n",
        "            row_factor = M[j][i]\n",
        "            M[j] = [M[j][k] - row_factor * M[i][k] for k in range(len(M[i]))]\n",
        "    \n",
        "    # Ekstrak solusi dari matriks yang diperbesar\n",
        "    x = [row[-1] for row in M]\n",
        "    \n",
        "    # Return solusinya\n",
        "    return x\n",
        "\n",
        "\n"
      ]
    },
    {
      "cell_type": "markdown",
      "source": [
        "**Tes Program**"
      ],
      "metadata": {
        "id": "U8IJASJLCic8"
      }
    },
    {
      "cell_type": "code",
      "source": [
        "A = [[1, 2, 3], [4, 5, 6], [7, 8, 9]]\n",
        "b = [1, 2, 3]\n",
        "x = gauss_jordan(A, b)\n",
        "print(x)  "
      ],
      "metadata": {
        "id": "qIoDT0xiDlFN",
        "colab": {
          "base_uri": "https://localhost:8080/"
        },
        "outputId": "b4308a91-ad2a-44a5-993d-31ae40828439"
      },
      "execution_count": 8,
      "outputs": [
        {
          "output_type": "stream",
          "name": "stdout",
          "text": [
            "[-0.2619047619047619, 0.5238095238095238, 0.07142857142857142]\n"
          ]
        }
      ]
    }
  ]
}